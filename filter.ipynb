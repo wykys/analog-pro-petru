{
 "metadata": {
  "language_info": {
   "codemirror_mode": {
    "name": "ipython",
    "version": 3
   },
   "file_extension": ".py",
   "mimetype": "text/x-python",
   "name": "python",
   "nbconvert_exporter": "python",
   "pygments_lexer": "ipython3",
   "version": "3.8.5-final"
  },
  "orig_nbformat": 2,
  "kernelspec": {
   "name": "python3",
   "display_name": "Python 3"
  }
 },
 "nbformat": 4,
 "nbformat_minor": 2,
 "cells": [
  {
   "source": [
    "# Filtr\n",
    "![](img/filter.svg)\n",
    "\n",
    "Nalezněte přenosovou funkci."
   ],
   "cell_type": "markdown",
   "metadata": {}
  },
  {
   "cell_type": "code",
   "execution_count": 1,
   "metadata": {},
   "outputs": [],
   "source": [
    "import sympy as sp\n",
    "from IPython.display import display, Math\n",
    "from copy import deepcopy\n",
    "\n",
    "def tex(*arg):\n",
    "    tmp = []\n",
    "    for a in arg:\n",
    "        if type(a) is str:\n",
    "            \n",
    "            format_hat = False\n",
    "            format_bolt = False\n",
    "            \n",
    "            if a == '*':\n",
    "                a = '\\cdot'\n",
    "            \n",
    "            if a.startswith('__'):\n",
    "                format_bolt = True\n",
    "                a = a[2:]\n",
    "            \n",
    "            if a.startswith('^'):\n",
    "                format_hat = True\n",
    "                a = a[1:]\n",
    "            \n",
    "            if format_bolt:\n",
    "                a = f'\\\\boldsymbol{{{a}}}'\n",
    "            if format_hat:\n",
    "                a = f'\\\\hat{{{a}}}'\n",
    "\n",
    "        tmp.append(sp.latex(a))    \n",
    "    display(Math(' '.join(tmp)))"
   ]
  },
  {
   "cell_type": "code",
   "execution_count": 2,
   "metadata": {},
   "outputs": [
    {
     "output_type": "display_data",
     "data": {
      "text/plain": "<IPython.core.display.Math object>",
      "text/latex": "$\\displaystyle \\left[\\begin{matrix}C_{1} s + \\frac{1}{R} & - \\frac{1}{R} & - C_{1} s\\\\- \\frac{1}{R} & C_{2} s + \\frac{2}{R} & - \\frac{1}{R}\\\\- C_{1} s & - \\frac{1}{R} & C_{1} s + \\frac{1}{R}\\end{matrix}\\right] \\cdot \\left[\\begin{matrix}U_{10}\\\\U_{20}\\\\U_{30}\\end{matrix}\\right] = \\left[\\begin{matrix}I_{IN}\\\\0\\\\0\\end{matrix}\\right]$"
     },
     "metadata": {}
    }
   ],
   "source": [
    "R1 = R2 = sp.Symbol('R')\n",
    "C1 = sp.Symbol('C_1')\n",
    "C2 = sp.Symbol('C_2')\n",
    "\n",
    "s = sp.Symbol('s')\n",
    "\n",
    "G1 = 1/R1\n",
    "G2 = 1/R2\n",
    "\n",
    "B1 = s * C1\n",
    "B2 = s * C2\n",
    "\n",
    "M = sp.Matrix([\n",
    "    [G1+B1, -G1, -B1],\n",
    "    [-G1, G1+G2+B2, -G2],\n",
    "    [-B1, -G2, G2+B1],\n",
    "])\n",
    "\n",
    "Iin = sp.Symbol('I_{IN}')\n",
    "\n",
    "I = sp.Matrix([[Iin], [0], [0]])\n",
    "\n",
    "U10 = sp.Symbol('U_{10}')\n",
    "U20 = sp.Symbol('U_{20}')\n",
    "U30 = sp.Symbol('U_{30}')\n",
    "\n",
    "U = sp.Matrix([[U10], [U20], [U30]])\n",
    "\n",
    "tex(M, '*', U, '=', I)"
   ]
  },
  {
   "cell_type": "code",
   "execution_count": 3,
   "metadata": {},
   "outputs": [
    {
     "output_type": "display_data",
     "data": {
      "text/plain": "<IPython.core.display.Math object>",
      "text/latex": "$\\displaystyle \\Delta = \\frac{2 C_{1} C_{2} R s^{2} + C_{2} s}{R^{2}}$"
     },
     "metadata": {}
    }
   ],
   "source": [
    "det = sp.det(M)\n",
    "tex('\\Delta =', det)"
   ]
  },
  {
   "cell_type": "code",
   "execution_count": 4,
   "metadata": {},
   "outputs": [
    {
     "output_type": "display_data",
     "data": {
      "text/plain": "<IPython.core.display.Math object>",
      "text/latex": "$\\displaystyle M_1 = \\left[\\begin{matrix}I_{IN} & - \\frac{1}{R} & - C_{1} s\\\\0 & C_{2} s + \\frac{2}{R} & - \\frac{1}{R}\\\\0 & - \\frac{1}{R} & C_{1} s + \\frac{1}{R}\\end{matrix}\\right]$"
     },
     "metadata": {}
    },
    {
     "output_type": "display_data",
     "data": {
      "text/plain": "<IPython.core.display.Math object>",
      "text/latex": "$\\displaystyle \\Delta_1 = \\frac{C_{1} C_{2} I_{IN} R^{2} s^{2} + 2 C_{1} I_{IN} R s + C_{2} I_{IN} R s + I_{IN}}{R^{2}}$"
     },
     "metadata": {}
    }
   ],
   "source": [
    "M1 = deepcopy(M)\n",
    "M1[:,0] = I\n",
    "tex('M_1 =', M1)\n",
    "det1 = sp.det(M1)\n",
    "tex('\\Delta_1 =', det1)"
   ]
  },
  {
   "cell_type": "code",
   "execution_count": 5,
   "metadata": {},
   "outputs": [
    {
     "output_type": "display_data",
     "data": {
      "text/plain": "<IPython.core.display.Math object>",
      "text/latex": "$\\displaystyle M_1 = \\left[\\begin{matrix}C_{1} s + \\frac{1}{R} & - \\frac{1}{R} & I_{IN}\\\\- \\frac{1}{R} & C_{2} s + \\frac{2}{R} & 0\\\\- C_{1} s & - \\frac{1}{R} & 0\\end{matrix}\\right]$"
     },
     "metadata": {}
    },
    {
     "output_type": "display_data",
     "data": {
      "text/plain": "<IPython.core.display.Math object>",
      "text/latex": "$\\displaystyle \\Delta_3 = \\frac{C_{1} C_{2} I_{IN} R^{2} s^{2} + 2 C_{1} I_{IN} R s + I_{IN}}{R^{2}}$"
     },
     "metadata": {}
    }
   ],
   "source": [
    "M3 = deepcopy(M)\n",
    "M3[:,2] = I\n",
    "tex('M_1 =', M3)\n",
    "det3 = sp.det(M3)\n",
    "tex('\\Delta_3 =', det3)"
   ]
  },
  {
   "cell_type": "code",
   "execution_count": 6,
   "metadata": {},
   "outputs": [
    {
     "output_type": "display_data",
     "data": {
      "text/plain": "<IPython.core.display.Math object>",
      "text/latex": "$\\displaystyle U_{10} = \\frac{2 C_{1} C_{2} R s^{2} + C_{2} s}{C_{1} C_{2} I_{IN} R^{2} s^{2} + 2 C_{1} I_{IN} R s + C_{2} I_{IN} R s + I_{IN}}$"
     },
     "metadata": {}
    },
    {
     "output_type": "display_data",
     "data": {
      "text/plain": "<IPython.core.display.Math object>",
      "text/latex": "$\\displaystyle U_{30} = \\frac{2 C_{1} C_{2} R s^{2} + C_{2} s}{C_{1} C_{2} I_{IN} R^{2} s^{2} + 2 C_{1} I_{IN} R s + I_{IN}}$"
     },
     "metadata": {}
    }
   ],
   "source": [
    "U10 = det/det1\n",
    "tex('U_{10} =', U10)\n",
    "\n",
    "U30 = det/det3\n",
    "tex('U_{30} =', U30)"
   ]
  },
  {
   "cell_type": "code",
   "execution_count": 7,
   "metadata": {},
   "outputs": [
    {
     "output_type": "display_data",
     "data": {
      "text/plain": "<IPython.core.display.Math object>",
      "text/latex": "$\\displaystyle K_U(s) = \\frac{C_{1} C_{2} R^{2} s^{2} + 2 C_{1} R s + C_{2} R s + 1}{C_{1} C_{2} R^{2} s^{2} + 2 C_{1} R s + 1}$"
     },
     "metadata": {}
    }
   ],
   "source": [
    "K = sp.simplify(U30 / U10)\n",
    "tex('K_U(s) =', K)"
   ]
  }
 ]
}
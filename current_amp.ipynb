{
 "metadata": {
  "language_info": {
   "codemirror_mode": {
    "name": "ipython",
    "version": 3
   },
   "file_extension": ".py",
   "mimetype": "text/x-python",
   "name": "python",
   "nbconvert_exporter": "python",
   "pygments_lexer": "ipython3",
   "version": "3.8.5-final"
  },
  "orig_nbformat": 2,
  "kernelspec": {
   "name": "Python 3.8.5 64-bit",
   "display_name": "Python 3.8.5 64-bit",
   "metadata": {
    "interpreter": {
     "hash": "31f2aee4e71d21fbe5cf8b01ff0e069b9275f58929596ceb00d14d90e3e16cd6"
    }
   }
  }
 },
 "nbformat": 4,
 "nbformat_minor": 2,
 "cells": [
  {
   "source": [
    "# Proudový zesilovač\n",
    "\n",
    "![](img/sch_current_amp.png)\n",
    "\n",
    "Určete přenos proudu $ B = -\\dfrac{I_2}{I_1} $"
   ],
   "cell_type": "markdown",
   "metadata": {}
  },
  {
   "source": [
    "## Základní popis obvodu\n",
    "\n",
    "Ideální operační zezilovaz ná v tomto zapojení díky záporné zpětní vazbě na invertujícím vstupu virtuální nulu. Na základe II. KZ. lze smyžku popsat touto rovnicí:\n",
    "$$ U_{10} = U_{13} + U_{30} = 0 \\Rightarrow U_{13} = - U_{30}$$\n",
    "\n",
    "$$ I_1 R_2 = - I_3 R_1 \\Rightarrow I_1 = -I_3 \\dfrac{R_1}{R_2} $$\n",
    "\n",
    "Proud $I_2$ lze získat na základě Ohmova zákona s úbytku na $R_Z$ a jeho hodnoty:\n",
    "$$ I_2 = \\dfrac{U_{30} - U_{20}}{R_Z}  = \\dfrac{I_3 R_1 - U_{20}}{R_Z}$$\n",
    "\n",
    "Aplikování I. KZ. na uzel tři vede na tuto rovnici:\n",
    "$$ I_1 - I_2 - I_3 = 0 $$\n",
    "\n",
    "Do rovnice dosadíme dříve získané výrazy reprezentující $I_1$ a $I_2$:\n",
    "$$ -I_3 \\dfrac{R_1}{R_2} - \\dfrac{I_3 R_1 - U_{20}}{R_Z} - I_3 = 0 $$\n",
    "$$ -I_3 R_Z \\dfrac{R_1}{R_2} - I_3 R_1 - U_{20} - I_3 R_Z = 0 $$\n",
    "$$ U_{20} = -I_3 R_Z \\dfrac{R_1}{R_2} - I_3 R_1 - I_3 R_Z $$\n",
    "Po několika elementárních úpravách získáme výraz reprezentující $U_{20}$:\n",
    "$$ U_{20} = -I_3 \\left( R_Z \\dfrac{R_1}{R_2} - R_1 - R_Z \\right) $$\n",
    "\n",
    "Následně do výrazu reprezentujícím $I_2$ dosadíme za $U_{20}$:\n",
    "$$ I_2 = \\dfrac{I_3 R_1 - U_{20}}{R_Z} = \\dfrac{I_3 R_1}{R_Z} - \\dfrac{U_{20}}{R_Z} $$\n",
    "$$ I_2 = \\dfrac{I_3 R_1 - U_{20}}{R_Z} = \\dfrac{I_3 R_1}{R_Z} - \\dfrac{-I_3 \\left( R_Z \\dfrac{R_1}{R_2} - R_1 - R_Z \\right)}{R_Z} $$\n",
    "$$ I_2 = \\dfrac{I_3 R_1 + I_3 \\left( R_Z \\dfrac{R_1}{R_2} - R_1 - R_Z \\right)}{R_Z} $$\n",
    "$$ I_2 = \\dfrac{I_3 \\left( R_Z \\dfrac{R_1}{R_2} - R_Z \\right)}{R_Z} $$"
   ],
   "cell_type": "markdown",
   "metadata": {}
  },
  {
   "source": [
    "## Určení proudového přenosu\n",
    "\n",
    "$$ B = -\\dfrac{I_2}{I_1} = - \\dfrac{\\dfrac{I_3 \\left( R_Z \\dfrac{R_1}{R_2} - R_Z \\right)}{R_Z} }{-I_3 \\dfrac{R_1}{R_2}} $$\n",
    "$$ B = -\\dfrac{I_2}{I_1} = - \\dfrac{\\dfrac{R_Z \\dfrac{R_1}{R_2} - R_Z}{R_Z} }{-\\dfrac{R_1}{R_2}} $$\n",
    "\n",
    "$$ B = -\\dfrac{I_2}{I_1} = \\dfrac{R_Z R_1 - R_Z R_2}{R_Z R_1} = 1 - \\dfrac{R_2}{R_1} $$"
   ],
   "cell_type": "markdown",
   "metadata": {}
  },
  {
   "source": [
    "## Vstupní odpor\n",
    "\n",
    "$$ R_{IN} = \\dfrac{ U_{10} }{ I_1 } = \\dfrac{0}{I_1} = 0 $$"
   ],
   "cell_type": "markdown",
   "metadata": {}
  },
  {
   "source": [
    "## Výstupní odpor\n",
    "\n",
    "$$ R_{OUT} = \\dfrac{U_{32}}{I_2} = R_Z $$"
   ],
   "cell_type": "markdown",
   "metadata": {}
  },
  {
   "source": [
    "## Shrnutí\n",
    "* Pženos zesilovače je ideální, jelikož není závislí na připojené zátěži, ale pouze na rezistorech $R_1$ a $R_2$.\n",
    "* Vstupní odpor je díky virtuální nule na invertujícím vstupu nulový, což je pro proudový zesilovač ideální.\n",
    "* Výstupní odpor zesilovaře mezi uzly dva a tři odpovídá hodnotě R_Z, ale neznám podmínky podle kterých počítáte výstupní odpor...\n",
    "\n",
    "Za mě ideálnost 3/3, ale pro praxi to má docela velký nešvar, ideální OZ neseřeneš a výstup není proti zemi.\n",
    "\n",
    "Jinak ber to s rezervou, chvíli před půlnocí sme došel s práce, tak sme byl dost KO když jsme to počítal, jsou i vefektivnější metody na tohle, ale nevím jesti ste se je učili, třeba modifikovaná metoda uzlových napětí by tohle dost zrychlila."
   ],
   "cell_type": "markdown",
   "metadata": {}
  }
 ]
}